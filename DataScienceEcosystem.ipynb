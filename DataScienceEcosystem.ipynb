{
 "cells": [
  {
   "cell_type": "markdown",
   "id": "38af1478",
   "metadata": {},
   "source": [
    "# My Data Science Notebook\n"
   ]
  },
  {
   "cell_type": "markdown",
   "id": "e39e2fd5",
   "metadata": {},
   "source": [
    "## Introduction\n",
    "This notebook contains exercises to demonstrate data science fundamentals.\n"
   ]
  },
  {
   "cell_type": "markdown",
   "id": "78b15cb6",
   "metadata": {},
   "source": [
    "## Data Science Languages\n",
    "The following is a list of popular programming languages used in data science:\n",
    "\n",
    "1. Python\n",
    "2. R\n",
    "3. SQL\n",
    "4. Julia\n",
    "5. Scala\n"
   ]
  },
  {
   "cell_type": "markdown",
   "id": "3c36adcb",
   "metadata": {},
   "source": [
    "## Data Science Libraries\n",
    "Here are some widely used libraries in the data science field:\n",
    "\n",
    "1. Pandas\n",
    "2. NumPy\n",
    "3. Matplotlib\n",
    "4. SciPy\n",
    "5. Scikit-learn\n",
    "6. TensorFlow\n",
    "7. Keras\n",
    "8. PyTorch\n"
   ]
  },
  {
   "cell_type": "markdown",
   "id": "15be7c98",
   "metadata": {},
   "source": [
    "## Data Science Tools\n",
    "Below is a table listing some popular Data Science tools:\n",
    "\n",
    "| Tool         | Category      | Description                                  |\n",
    "|--------------|---------------|----------------------------------------------|\n",
    "| Jupyter      | Environment   | Interactive notebook for data analysis       |\n",
    "| Python       | Language      | Programming language for data science        |\n",
    "| R            | Language      | Statistical computing and graphics           |\n",
    "| TensorFlow   | Library       | Machine learning library                     |\n",
    "| Tableau      | Visualization | Data visualization tool                      |\n",
    "| Excel        | Tool          | Spreadsheet tool for data analysis           |\n"
   ]
  },
  {
   "cell_type": "markdown",
   "id": "71963a5a",
   "metadata": {},
   "source": [
    "## Arithmetic Expression Examples\n",
    "The following are some examples of arithmetic expressions that will be demonstrated:\n"
   ]
  },
  {
   "cell_type": "code",
   "execution_count": 3,
   "id": "64e33d01",
   "metadata": {},
   "outputs": [
    {
     "data": {
      "text/plain": [
       "(50, 15)"
      ]
     },
     "execution_count": 3,
     "metadata": {},
     "output_type": "execute_result"
    }
   ],
   "source": [
    "# Multiplying and Adding numbers\n",
    "num1 = 5\n",
    "num2 = 10\n",
    "\n",
    "# Multiply numbers\n",
    "multiplication_result = num1 * num2\n",
    "\n",
    "# Add numbers\n",
    "addition_result = num1 + num2\n",
    "\n",
    "# Display the results\n",
    "multiplication_result, addition_result\n"
   ]
  },
  {
   "cell_type": "code",
   "execution_count": 4,
   "id": "89ee5456",
   "metadata": {},
   "outputs": [
    {
     "data": {
      "text/plain": [
       "2.0"
      ]
     },
     "execution_count": 4,
     "metadata": {},
     "output_type": "execute_result"
    }
   ],
   "source": [
    "# Convert minutes to hours\n",
    "minutes = 120  # Example value\n",
    "\n",
    "# Convert minutes to hours\n",
    "hours = minutes / 60\n",
    "\n",
    "# Display the result\n",
    "hours\n"
   ]
  },
  {
   "cell_type": "markdown",
   "id": "fee0519c",
   "metadata": {},
   "source": [
    "## Objectives\n",
    "The objectives of this notebook are:\n",
    "- Learn basic arithmetic operations in Python.\n",
    "- Understand how to convert units (minutes to hours).\n",
    "- Explore various data science tools and libraries.\n",
    "- Implement Python code to solve practical problems.\n"
   ]
  },
  {
   "cell_type": "markdown",
   "id": "994063a9",
   "metadata": {},
   "source": [
    "## Author\n",
    "The author of this notebook is:  \n",
    "Vishal Karpe\n"
   ]
  },
  {
   "cell_type": "code",
   "execution_count": null,
   "id": "55095625",
   "metadata": {},
   "outputs": [],
   "source": []
  }
 ],
 "metadata": {
  "kernelspec": {
   "display_name": "Python 3 (ipykernel)",
   "language": "python",
   "name": "python3"
  },
  "language_info": {
   "codemirror_mode": {
    "name": "ipython",
    "version": 3
   },
   "file_extension": ".py",
   "mimetype": "text/x-python",
   "name": "python",
   "nbconvert_exporter": "python",
   "pygments_lexer": "ipython3",
   "version": "3.11.5"
  }
 },
 "nbformat": 4,
 "nbformat_minor": 5
}
